{
 "cells": [
  {
   "cell_type": "code",
   "execution_count": 1,
   "metadata": {},
   "outputs": [],
   "source": [
    "import numpy as np\n",
    "import pandas as pd\n",
    "import matplotlib.pyplot as plt\n",
    "\n",
    "from collections import Counter"
   ]
  },
  {
   "cell_type": "code",
   "execution_count": 2,
   "metadata": {},
   "outputs": [],
   "source": [
    "#importing data with latin-1 encoding because there are some special characters\n",
    "df = pd.read_csv('Information.csv', encoding='latin-1')"
   ]
  },
  {
   "cell_type": "code",
   "execution_count": 3,
   "metadata": {},
   "outputs": [
    {
     "data": {
      "text/html": [
       "<div>\n",
       "<style scoped>\n",
       "    .dataframe tbody tr th:only-of-type {\n",
       "        vertical-align: middle;\n",
       "    }\n",
       "\n",
       "    .dataframe tbody tr th {\n",
       "        vertical-align: top;\n",
       "    }\n",
       "\n",
       "    .dataframe thead th {\n",
       "        text-align: right;\n",
       "    }\n",
       "</style>\n",
       "<table border=\"1\" class=\"dataframe\">\n",
       "  <thead>\n",
       "    <tr style=\"text-align: right;\">\n",
       "      <th></th>\n",
       "      <th>_unit_id</th>\n",
       "      <th>_golden</th>\n",
       "      <th>_unit_state</th>\n",
       "      <th>_trusted_judgments</th>\n",
       "      <th>_last_judgment_at</th>\n",
       "      <th>gender</th>\n",
       "      <th>gender:confidence</th>\n",
       "      <th>profile_yn</th>\n",
       "      <th>profile_yn:confidence</th>\n",
       "      <th>created</th>\n",
       "      <th>...</th>\n",
       "      <th>profileimage</th>\n",
       "      <th>retweet_count</th>\n",
       "      <th>sidebar_color</th>\n",
       "      <th>text</th>\n",
       "      <th>tweet_coord</th>\n",
       "      <th>tweet_count</th>\n",
       "      <th>tweet_created</th>\n",
       "      <th>tweet_id</th>\n",
       "      <th>tweet_location</th>\n",
       "      <th>user_timezone</th>\n",
       "    </tr>\n",
       "  </thead>\n",
       "  <tbody>\n",
       "    <tr>\n",
       "      <td>0</td>\n",
       "      <td>815719226</td>\n",
       "      <td>False</td>\n",
       "      <td>finalized</td>\n",
       "      <td>3</td>\n",
       "      <td>10/26/15 23:24</td>\n",
       "      <td>male</td>\n",
       "      <td>1.0000</td>\n",
       "      <td>yes</td>\n",
       "      <td>1.0</td>\n",
       "      <td>12/5/13 1:48</td>\n",
       "      <td>...</td>\n",
       "      <td>https://pbs.twimg.com/profile_images/414342229...</td>\n",
       "      <td>0</td>\n",
       "      <td>FFFFFF</td>\n",
       "      <td>Robbie E Responds To Critics After Win Against...</td>\n",
       "      <td>NaN</td>\n",
       "      <td>110964</td>\n",
       "      <td>10/26/15 12:40</td>\n",
       "      <td>6.587300e+17</td>\n",
       "      <td>main; @Kan1shk3</td>\n",
       "      <td>Chennai</td>\n",
       "    </tr>\n",
       "    <tr>\n",
       "      <td>1</td>\n",
       "      <td>815719227</td>\n",
       "      <td>False</td>\n",
       "      <td>finalized</td>\n",
       "      <td>3</td>\n",
       "      <td>10/26/15 23:30</td>\n",
       "      <td>male</td>\n",
       "      <td>1.0000</td>\n",
       "      <td>yes</td>\n",
       "      <td>1.0</td>\n",
       "      <td>10/1/12 13:51</td>\n",
       "      <td>...</td>\n",
       "      <td>https://pbs.twimg.com/profile_images/539604221...</td>\n",
       "      <td>0</td>\n",
       "      <td>C0DEED</td>\n",
       "      <td>ÛÏIt felt like they were my friends and I was...</td>\n",
       "      <td>NaN</td>\n",
       "      <td>7471</td>\n",
       "      <td>10/26/15 12:40</td>\n",
       "      <td>6.587300e+17</td>\n",
       "      <td>NaN</td>\n",
       "      <td>Eastern Time (US &amp; Canada)</td>\n",
       "    </tr>\n",
       "    <tr>\n",
       "      <td>2</td>\n",
       "      <td>815719228</td>\n",
       "      <td>False</td>\n",
       "      <td>finalized</td>\n",
       "      <td>3</td>\n",
       "      <td>10/26/15 23:33</td>\n",
       "      <td>male</td>\n",
       "      <td>0.6625</td>\n",
       "      <td>yes</td>\n",
       "      <td>1.0</td>\n",
       "      <td>11/28/14 11:30</td>\n",
       "      <td>...</td>\n",
       "      <td>https://pbs.twimg.com/profile_images/657330418...</td>\n",
       "      <td>1</td>\n",
       "      <td>C0DEED</td>\n",
       "      <td>i absolutely adore when louis starts the songs...</td>\n",
       "      <td>NaN</td>\n",
       "      <td>5617</td>\n",
       "      <td>10/26/15 12:40</td>\n",
       "      <td>6.587300e+17</td>\n",
       "      <td>clcncl</td>\n",
       "      <td>Belgrade</td>\n",
       "    </tr>\n",
       "    <tr>\n",
       "      <td>3</td>\n",
       "      <td>815719229</td>\n",
       "      <td>False</td>\n",
       "      <td>finalized</td>\n",
       "      <td>3</td>\n",
       "      <td>10/26/15 23:10</td>\n",
       "      <td>male</td>\n",
       "      <td>1.0000</td>\n",
       "      <td>yes</td>\n",
       "      <td>1.0</td>\n",
       "      <td>6/11/09 22:39</td>\n",
       "      <td>...</td>\n",
       "      <td>https://pbs.twimg.com/profile_images/259703936...</td>\n",
       "      <td>0</td>\n",
       "      <td>C0DEED</td>\n",
       "      <td>Hi @JordanSpieth - Looking at the url - do you...</td>\n",
       "      <td>NaN</td>\n",
       "      <td>1693</td>\n",
       "      <td>10/26/15 12:40</td>\n",
       "      <td>6.587300e+17</td>\n",
       "      <td>Palo Alto, CA</td>\n",
       "      <td>Pacific Time (US &amp; Canada)</td>\n",
       "    </tr>\n",
       "    <tr>\n",
       "      <td>4</td>\n",
       "      <td>815719230</td>\n",
       "      <td>False</td>\n",
       "      <td>finalized</td>\n",
       "      <td>3</td>\n",
       "      <td>10/27/15 1:15</td>\n",
       "      <td>female</td>\n",
       "      <td>1.0000</td>\n",
       "      <td>yes</td>\n",
       "      <td>1.0</td>\n",
       "      <td>4/16/14 13:23</td>\n",
       "      <td>...</td>\n",
       "      <td>https://pbs.twimg.com/profile_images/564094871...</td>\n",
       "      <td>0</td>\n",
       "      <td>0</td>\n",
       "      <td>Watching Neighbours on Sky+ catching up with t...</td>\n",
       "      <td>NaN</td>\n",
       "      <td>31462</td>\n",
       "      <td>10/26/15 12:40</td>\n",
       "      <td>6.587300e+17</td>\n",
       "      <td>NaN</td>\n",
       "      <td>NaN</td>\n",
       "    </tr>\n",
       "  </tbody>\n",
       "</table>\n",
       "<p>5 rows × 26 columns</p>\n",
       "</div>"
      ],
      "text/plain": [
       "    _unit_id  _golden _unit_state  _trusted_judgments _last_judgment_at  \\\n",
       "0  815719226    False   finalized                   3    10/26/15 23:24   \n",
       "1  815719227    False   finalized                   3    10/26/15 23:30   \n",
       "2  815719228    False   finalized                   3    10/26/15 23:33   \n",
       "3  815719229    False   finalized                   3    10/26/15 23:10   \n",
       "4  815719230    False   finalized                   3     10/27/15 1:15   \n",
       "\n",
       "   gender  gender:confidence profile_yn  profile_yn:confidence  \\\n",
       "0    male             1.0000        yes                    1.0   \n",
       "1    male             1.0000        yes                    1.0   \n",
       "2    male             0.6625        yes                    1.0   \n",
       "3    male             1.0000        yes                    1.0   \n",
       "4  female             1.0000        yes                    1.0   \n",
       "\n",
       "          created  ...                                       profileimage  \\\n",
       "0    12/5/13 1:48  ...  https://pbs.twimg.com/profile_images/414342229...   \n",
       "1   10/1/12 13:51  ...  https://pbs.twimg.com/profile_images/539604221...   \n",
       "2  11/28/14 11:30  ...  https://pbs.twimg.com/profile_images/657330418...   \n",
       "3   6/11/09 22:39  ...  https://pbs.twimg.com/profile_images/259703936...   \n",
       "4   4/16/14 13:23  ...  https://pbs.twimg.com/profile_images/564094871...   \n",
       "\n",
       "   retweet_count sidebar_color  \\\n",
       "0              0        FFFFFF   \n",
       "1              0        C0DEED   \n",
       "2              1        C0DEED   \n",
       "3              0        C0DEED   \n",
       "4              0             0   \n",
       "\n",
       "                                                text tweet_coord tweet_count  \\\n",
       "0  Robbie E Responds To Critics After Win Against...         NaN      110964   \n",
       "1  ÛÏIt felt like they were my friends and I was...         NaN        7471   \n",
       "2  i absolutely adore when louis starts the songs...         NaN        5617   \n",
       "3  Hi @JordanSpieth - Looking at the url - do you...         NaN        1693   \n",
       "4  Watching Neighbours on Sky+ catching up with t...         NaN       31462   \n",
       "\n",
       "    tweet_created      tweet_id   tweet_location               user_timezone  \n",
       "0  10/26/15 12:40  6.587300e+17  main; @Kan1shk3                     Chennai  \n",
       "1  10/26/15 12:40  6.587300e+17              NaN  Eastern Time (US & Canada)  \n",
       "2  10/26/15 12:40  6.587300e+17           clcncl                    Belgrade  \n",
       "3  10/26/15 12:40  6.587300e+17    Palo Alto, CA  Pacific Time (US & Canada)  \n",
       "4  10/26/15 12:40  6.587300e+17              NaN                         NaN  \n",
       "\n",
       "[5 rows x 26 columns]"
      ]
     },
     "execution_count": 3,
     "metadata": {},
     "output_type": "execute_result"
    }
   ],
   "source": [
    "#a sample of the dataset\n",
    "df.head()"
   ]
  },
  {
   "cell_type": "code",
   "execution_count": 4,
   "metadata": {},
   "outputs": [
    {
     "name": "stdout",
     "output_type": "stream",
     "text": [
      "<class 'pandas.core.frame.DataFrame'>\n",
      "RangeIndex: 20050 entries, 0 to 20049\n",
      "Data columns (total 26 columns):\n",
      "_unit_id                 20050 non-null int64\n",
      "_golden                  20050 non-null bool\n",
      "_unit_state              20050 non-null object\n",
      "_trusted_judgments       20050 non-null int64\n",
      "_last_judgment_at        20000 non-null object\n",
      "gender                   19953 non-null object\n",
      "gender:confidence        20024 non-null float64\n",
      "profile_yn               20050 non-null object\n",
      "profile_yn:confidence    20050 non-null float64\n",
      "created                  20050 non-null object\n",
      "description              16306 non-null object\n",
      "fav_number               20050 non-null int64\n",
      "gender_gold              50 non-null object\n",
      "link_color               20050 non-null object\n",
      "name                     20050 non-null object\n",
      "profile_yn_gold          50 non-null object\n",
      "profileimage             20050 non-null object\n",
      "retweet_count            20050 non-null int64\n",
      "sidebar_color            20050 non-null object\n",
      "text                     20050 non-null object\n",
      "tweet_coord              159 non-null object\n",
      "tweet_count              20050 non-null int64\n",
      "tweet_created            20050 non-null object\n",
      "tweet_id                 20050 non-null float64\n",
      "tweet_location           12566 non-null object\n",
      "user_timezone            12252 non-null object\n",
      "dtypes: bool(1), float64(3), int64(5), object(17)\n",
      "memory usage: 3.8+ MB\n"
     ]
    }
   ],
   "source": [
    "df.info()"
   ]
  },
  {
   "cell_type": "code",
   "execution_count": 5,
   "metadata": {},
   "outputs": [
    {
     "data": {
      "text/plain": [
       "(20050, 26)"
      ]
     },
     "execution_count": 5,
     "metadata": {},
     "output_type": "execute_result"
    }
   ],
   "source": [
    "df.shape"
   ]
  },
  {
   "cell_type": "code",
   "execution_count": 6,
   "metadata": {},
   "outputs": [
    {
     "data": {
      "text/plain": [
       "1.0000    13926\n",
       "0.0000       71\n",
       "0.6691       31\n",
       "0.6709       30\n",
       "0.6591       30\n",
       "          ...  \n",
       "0.6379        1\n",
       "0.6322        1\n",
       "0.6911        1\n",
       "0.6971        1\n",
       "0.6873        1\n",
       "Name: gender:confidence, Length: 923, dtype: int64"
      ]
     },
     "execution_count": 6,
     "metadata": {},
     "output_type": "execute_result"
    }
   ],
   "source": [
    "df['gender:confidence'].value_counts()"
   ]
  },
  {
   "cell_type": "markdown",
   "metadata": {},
   "source": [
    "Only 13926 gender categories are with 100% confidence. So for the prediction of genders we will be using only the ones with 100% confidence  "
   ]
  },
  {
   "cell_type": "code",
   "execution_count": 7,
   "metadata": {},
   "outputs": [
    {
     "data": {
      "text/plain": [
       "female     6700\n",
       "male       6194\n",
       "brand      5942\n",
       "unknown    1117\n",
       "Name: gender, dtype: int64"
      ]
     },
     "execution_count": 7,
     "metadata": {},
     "output_type": "execute_result"
    }
   ],
   "source": [
    "df['gender'].value_counts()"
   ]
  },
  {
   "cell_type": "markdown",
   "metadata": {},
   "source": [
    "We will only consider male, female and brand categories as unknown is lesser in count and doesnt provide much inofrmation at the same time."
   ]
  },
  {
   "cell_type": "markdown",
   "metadata": {},
   "source": [
    "# Data Analysis"
   ]
  },
  {
   "cell_type": "markdown",
   "metadata": {},
   "source": [
    "## 1. Link_Color and Sidebar_Color Features Exploration"
   ]
  },
  {
   "cell_type": "markdown",
   "metadata": {},
   "source": [
    "Exploring the features sidebar color and link color for the three gender categories male, female and brand"
   ]
  },
  {
   "cell_type": "code",
   "execution_count": 8,
   "metadata": {},
   "outputs": [],
   "source": [
    "# Defining the function to return values from link_color and sidebar_color for each gender category\n",
    "def plot_color_features(data, feature, toRemove):\n",
    "    # Selecting columns from the data\n",
    "    df_col = df.loc[:, ['gender:confidence', 'gender', feature]]\n",
    "    \n",
    "    # Selecting rows where gender:confidence >= 1 and removing values like 7.60E+42\n",
    "    dfcolFiltered = df_col[(df_col['gender:confidence'] >= 1) &\n",
    "                         ((df_col[feature]).str.contains('E\\+') != True)]\n",
    "    \n",
    "    # Segregating data based on the gender category\n",
    "    Male_data = dfcolFiltered[dfcolFiltered['gender'] == 'male']\n",
    "    Female_data = dfcolFiltered[dfcolFiltered['gender'] == 'female']\n",
    "    Brand_data = dfcolFiltered[dfcolFiltered['gender'] == 'brand']\n",
    "    \n",
    "    # To plot the graph, I need top 20 colors along with its count for each gender category\n",
    "    color_male = Male_data[feature]\n",
    "    color_female = Female_data[feature]\n",
    "    color_brand = Brand_data[feature]\n",
    "    \n",
    "    # Creating list of lists by using flatten method\n",
    "    male_list = list(color_male.values.flatten())\n",
    "    female_list = list(color_female.values.flatten())\n",
    "    brand_list = list(color_brand.values.flatten())\n",
    "    \n",
    "    # Only Selecting top 20 colors used by each gender and creating a list which includes the color and the count\n",
    "    color_male = Counter(color_male).most_common(21)\n",
    "    color_female = Counter(color_female).most_common(21)\n",
    "    color_brand = Counter(color_brand).most_common(21)\n",
    "    \n",
    "    # Taking list of colors for each gender category\n",
    "    # Not selecting the first most common color from each of the gender category\n",
    "    male_colors = [x[0] for x in color_male[toRemove:]] \n",
    "    female_colors = [x[0] for x in color_female[toRemove:]] \n",
    "    brand_colors = [x[0] for x in color_brand[toRemove:]]\n",
    "    \n",
    "    # Taking list of counts for each gender category\n",
    "    # Not Selecting the first most common number because the most common color is blue for all the categories and it doesnt give much value\n",
    "    male_num = [x[1] for x in color_male[toRemove:]] \n",
    "    female_num = [x[1] for x in color_female[toRemove:]] \n",
    "    brand_num = [x[1] for x in color_brand[toRemove:]]\n",
    "    \n",
    "    # Converting hex codes into consistent format\n",
    "    # 1. Prefixing hex code with # and adding six zeros to it\n",
    "    # 2. Selecting 6 characters from the newly converted hex code\n",
    "    Hexcolor_Male = ['#' + x + '000000' for x in male_colors]\n",
    "    Hexcolor_Male = [x[0:7] for x in Hexcolor_Male]\n",
    "    Hexcolor_Female = ['#' + x + '000000' for x in female_colors]\n",
    "    Hexcolor_Female = [x[0:7] for x in Hexcolor_Female]\n",
    "    Hexcolor_Brand = ['#' + x + '000000' for x in brand_colors]\n",
    "    Hexcolor_Brand = [x[0:7] for x in Hexcolor_Brand]\n",
    "    \n",
    "    return male_num, female_num, brand_num, Hexcolor_Male, Hexcolor_Female, Hexcolor_Brand"
   ]
  },
  {
   "cell_type": "markdown",
   "metadata": {},
   "source": [
    "### A. Exploring link_color attribute for each of the gender category"
   ]
  },
  {
   "cell_type": "code",
   "execution_count": 9,
   "metadata": {},
   "outputs": [],
   "source": [
    "# calling function plot_color_features and removing 1 most common occuring color from each category\n",
    "male_num, female_num, brand_num, Hexcolor_Male, Hexcolor_Female, Hexcolor_Brand = plot_color_features(df, 'link_color', 1)"
   ]
  },
  {
   "cell_type": "code",
   "execution_count": 10,
   "metadata": {},
   "outputs": [],
   "source": [
    "col_range = list(range(len(male_num)))"
   ]
  },
  {
   "cell_type": "markdown",
   "metadata": {},
   "source": [
    "#### Plotting the graph of the link_color for the Male gender"
   ]
  },
  {
   "cell_type": "code",
   "execution_count": 11,
   "metadata": {},
   "outputs": [
    {
     "data": {
      "text/plain": [
       "Text(0.5, 1.0, 'Link Colors which Male gender prefer ')"
      ]
     },
     "execution_count": 11,
     "metadata": {},
     "output_type": "execute_result"
    },
    {
     "data": {
      "image/png": "[encoded data removed]",
      "text/plain": [
       "<Figure size 432x288 with 1 Axes>"
      ]
     },
     "metadata": {
      "needs_background": "light"
     },
     "output_type": "display_data"
    }
   ],
   "source": [
    "plt.barh(col_range,male_num,\n",
    "                label = 'Male', color = Hexcolor_Male)\n",
    "plt.yticks(col_range, Hexcolor_Male)\n",
    "plt.xlabel('color')\n",
    "plt.ylabel('link_color')\n",
    "plt. title('Link Colors which Male gender prefer ')"
   ]
  },
  {
   "cell_type": "markdown",
   "metadata": {},
   "source": [
    "#### Plotting the graph of the link_color for the Female gender"
   ]
  },
  {
   "cell_type": "code",
   "execution_count": 12,
   "metadata": {},
   "outputs": [
    {
     "data": {
      "text/plain": [
       "Text(0.5, 1.0, 'Link Colors which Female gender prefer')"
      ]
     },
     "execution_count": 12,
     "metadata": {},
     "output_type": "execute_result"
    },
    {
     "data": {
      "image/png": "[encoded data removed]",
      "text/plain": [
       "<Figure size 432x288 with 1 Axes>"
      ]
     },
     "metadata": {
      "needs_background": "light"
     },
     "output_type": "display_data"
    }
   ],
   "source": [
    "plt.barh(col_range,female_num,\n",
    "                label = 'Female', color = Hexcolor_Female)\n",
    "plt.yticks(col_range, Hexcolor_Female)\n",
    "plt.xlabel('color')\n",
    "plt.ylabel('link_color')\n",
    "plt. title('Link Colors which Female gender prefer')"
   ]
  },
  {
   "cell_type": "markdown",
   "metadata": {},
   "source": [
    "#### Plotting the graph of the link_color for the Brand gender"
   ]
  },
  {
   "cell_type": "code",
   "execution_count": 13,
   "metadata": {},
   "outputs": [
    {
     "data": {
      "text/plain": [
       "Text(0.5, 1.0, 'Link Colors which Brand gender prefer')"
      ]
     },
     "execution_count": 13,
     "metadata": {},
     "output_type": "execute_result"
    },
    {
     "data": {
      "image/png": "[encoded data removed]",
      "text/plain": [
       "<Figure size 432x288 with 1 Axes>"
      ]
     },
     "metadata": {
      "needs_background": "light"
     },
     "output_type": "display_data"
    }
   ],
   "source": [
    "plt.barh(col_range,brand_num,\n",
    "                label = 'Brand', color = Hexcolor_Brand)\n",
    "plt.yticks(col_range, Hexcolor_Brand)\n",
    "plt.xlabel('color')\n",
    "plt.ylabel('link_color')\n",
    "plt. title('Link Colors which Brand gender prefer')"
   ]
  },
  {
   "cell_type": "markdown",
   "metadata": {},
   "source": [
    "### B. Exploring sidebar_color for each of the gender category"
   ]
  },
  {
   "cell_type": "code",
   "execution_count": 14,
   "metadata": {},
   "outputs": [],
   "source": [
    "# calling function plot_color_features and removing 4 most common occuring color from each category\n",
    "male_num_sc, female_num_sc, brand_num_sc, Hexcolor_Male_sc, Hexcolor_Female_sc, Hexcolor_Brand_sc = plot_color_features(df, 'sidebar_color', 4)"
   ]
  },
  {
   "cell_type": "code",
   "execution_count": 15,
   "metadata": {},
   "outputs": [],
   "source": [
    "col_range_sc = list(range(len(male_num_sc)))"
   ]
  },
  {
   "cell_type": "markdown",
   "metadata": {},
   "source": [
    "#### Plotting the graph of the side_color for the Male gender"
   ]
  },
  {
   "cell_type": "code",
   "execution_count": 16,
   "metadata": {},
   "outputs": [
    {
     "data": {
      "text/plain": [
       "Text(0.5, 1.0, 'Sidebar colors which Male gender prefer')"
      ]
     },
     "execution_count": 16,
     "metadata": {},
     "output_type": "execute_result"
    },
    {
     "data": {
      "image/png": "[encoded data removed]",
      "text/plain": [
       "<Figure size 432x288 with 1 Axes>"
      ]
     },
     "metadata": {
      "needs_background": "light"
     },
     "output_type": "display_data"
    }
   ],
   "source": [
    "plt.barh(col_range_sc,male_num_sc,\n",
    "                label = 'Male', color = Hexcolor_Male_sc)\n",
    "plt.yticks(col_range_sc, Hexcolor_Male_sc)\n",
    "plt.xlabel('color')\n",
    "plt.ylabel('sidebar_color')\n",
    "plt. title('Sidebar colors which Male gender prefer')"
   ]
  },
  {
   "cell_type": "markdown",
   "metadata": {},
   "source": [
    "#### Plotting the graph of the sidebar_color for the Female gender"
   ]
  },
  {
   "cell_type": "code",
   "execution_count": 17,
   "metadata": {},
   "outputs": [
    {
     "data": {
      "text/plain": [
       "Text(0.5, 1.0, 'Sidebar colors which Female gender prefer')"
      ]
     },
     "execution_count": 17,
     "metadata": {},
     "output_type": "execute_result"
    },
    {
     "data": {
      "image/png": "[encoded data removed]",
      "text/plain": [
       "<Figure size 432x288 with 1 Axes>"
      ]
     },
     "metadata": {
      "needs_background": "light"
     },
     "output_type": "display_data"
    }
   ],
   "source": [
    "plt.barh(col_range_sc,female_num_sc,\n",
    "                label = 'Female', color = Hexcolor_Female_sc)\n",
    "plt.yticks(col_range_sc, Hexcolor_Female_sc)\n",
    "plt.xlabel('color')\n",
    "plt.ylabel('sidebar_color')\n",
    "plt. title('Sidebar colors which Female gender prefer')"
   ]
  },
  {
   "cell_type": "markdown",
   "metadata": {},
   "source": [
    "#### Plotting the graph of the sidebar_color for the Brand gender"
   ]
  },
  {
   "cell_type": "code",
   "execution_count": 18,
   "metadata": {},
   "outputs": [
    {
     "data": {
      "text/plain": [
       "Text(0.5, 1.0, 'Sidebar colors which Brand gender prefer')"
      ]
     },
     "execution_count": 18,
     "metadata": {},
     "output_type": "execute_result"
    },
    {
     "data": {
      "image/png": "[encoded data removed]",
      "text/plain": [
       "<Figure size 432x288 with 1 Axes>"
      ]
     },
     "metadata": {
      "needs_background": "light"
     },
     "output_type": "display_data"
    }
   ],
   "source": [
    "plt.barh(col_range_sc,brand_num_sc,\n",
    "                label = 'Brand', color = Hexcolor_Brand_sc)\n",
    "plt.yticks(col_range_sc, Hexcolor_Brand_sc)\n",
    "plt.xlabel('color')\n",
    "plt.ylabel('sidebar_color')\n",
    "plt. title('Sidebar colors which Brand gender prefer')"
   ]
  },
  {
   "cell_type": "markdown",
   "metadata": {},
   "source": [
    "#### Observations from the Colors Features exploration"
   ]
  },
  {
   "cell_type": "markdown",
   "metadata": {},
   "source": [
    "</ol>\n",
    "<li>Female prefer pink and purple as their link_color</li>\n",
    "<li>Male prefer green and blue as their link_color</li>\n",
    "<li>Brand prefer blue or green as their link_color</li>\n",
    "<li>Users change link color more than the side bar color</li>\n",
    "</ol>"
   ]
  },
  {
   "cell_type": "markdown",
   "metadata": {},
   "source": [
    "## 2. Text and Description Features Exploration"
   ]
  },
  {
   "cell_type": "markdown",
   "metadata": {},
   "source": [
    "Exploring which words are mostly used by each gender category (Male, Female and Brand)."
   ]
  },
  {
   "cell_type": "markdown",
   "metadata": {},
   "source": [
    "Description field contains description of the user's profile. This field contains 3744 values as NaN (ie. Not a Number). It would cause problem while trying to clean 'description' field. Therefore changing NaN to blank (ie. '')"
   ]
  },
  {
   "cell_type": "code",
   "execution_count": 19,
   "metadata": {},
   "outputs": [],
   "source": [
    "df.description = df.description.fillna('')"
   ]
  },
  {
   "cell_type": "markdown",
   "metadata": {},
   "source": [
    "### Data Cleaning"
   ]
  },
  {
   "cell_type": "code",
   "execution_count": 20,
   "metadata": {},
   "outputs": [],
   "source": [
    "import string\n",
    "import re"
   ]
  },
  {
   "cell_type": "code",
   "execution_count": 21,
   "metadata": {},
   "outputs": [],
   "source": [
    "def clean(s):\n",
    "    s = str(s)        # Converting to string\n",
    "    s = s.lower()     # Normalizing text by converting everything to lower case\n",
    "    \n",
    "    # Removing characters that are non-alphanumeric\n",
    "    s = re.sub('https://t.co/\\w+', ' ',s)\n",
    "    s = re.sub('\\s\\W',' ',s) # Replacing one whitespace followed by one non-alphanumeric character with ' '\n",
    "    s = re.sub('\\W,\\s', ' ', s) # Replacing one non-alphanumeric character  followed by comma and one whitespace with ' '\n",
    "    s = re.sub(\"\\d+\",' ',s)     # Removing 1 or more digits\n",
    "    s = re.sub('\\s+', ' ', s)   # Removing 1 or more spaces from the text\n",
    "    s = re.sub('[!#?$@_%]', ' ', s) # Removing !, @, #, $, _ from the string\n",
    "    s = s.replace(',', ' ')\n",
    "    s = s.replace('[\\W*]', ' ')\n",
    "    return s"
   ]
  },
  {
   "cell_type": "code",
   "execution_count": 22,
   "metadata": {},
   "outputs": [],
   "source": [
    "df['text_normalized'] = [clean(text) for text in df['text']]\n",
    "df['desc_normalized'] = [clean(desc) for desc in df['description']]"
   ]
  },
  {
   "cell_type": "code",
   "execution_count": 23,
   "metadata": {},
   "outputs": [
    {
     "data": {
      "text/plain": [
       "0        robbie e responds to critics after win against eddie edwards in the worldtitleseries                             \n",
       "1        ûïit felt like they were my friends and i was living the story with themû retired ian                         \n",
       "2        i absolutely adore when louis starts the songs it hits me hard but it feels good                                 \n",
       "3        hi jordanspieth looking at the url do you use ifttt   don't typically see an advanced user on the pgatour        \n",
       "4        watching neighbours on sky+ catching up with the neighbs   xxx  ù÷ä ù÷ä ù÷ä ùôî ùè ùô ùè xxx                  \n",
       "                                                      ...                                                                 \n",
       "20045     lookupondeath ..fine  and i'll drink tea too. i love you.                                                       \n",
       "20046    greg hardy you a good player and all but don't get in the face of dez bryant. learn your place mane.             \n",
       "20047    you can miss people and still never want to see them again                                                       \n",
       "20048     bitemyapp i had noticed your tendency to pee on the carpet  but i didn't want to say anything p                 \n",
       "20049    i think for my apush creative project i'm going to bring bacon to class and eat it to represent bacon's rebellion\n",
       "Name: text_normalized, Length: 20050, dtype: object"
      ]
     },
     "execution_count": 23,
     "metadata": {},
     "output_type": "execute_result"
    }
   ],
   "source": [
    "pd.options.display.max_rows\n",
    "pd.set_option('display.max_colwidth', -1)\n",
    "\n",
    "df['text_normalized']"
   ]
  },
  {
   "cell_type": "code",
   "execution_count": 24,
   "metadata": {},
   "outputs": [
    {
     "data": {
      "text/plain": [
       "(34,)"
      ]
     },
     "execution_count": 24,
     "metadata": {},
     "output_type": "execute_result"
    }
   ],
   "source": [
    "df[df['link_color'].str.contains('E\\+') == True]['link_color'].shape"
   ]
  },
  {
   "cell_type": "code",
   "execution_count": 25,
   "metadata": {},
   "outputs": [],
   "source": [
    "# Putting all the interesting text together, \n",
    "# i.e. the profile description and the tweets itself in one string for each user\n",
    "dfText = df\n",
    "dfText['all_text'] =dfText['text_normalized'].str.cat(dfText['desc_normalized'],sep=' ')\n",
    "\n",
    "# Selecting rows where the confidence in gender is 1 and gender categories are female, male and brand\n",
    "# Since link_Color column contains values like 2.21E+09. Hence eliminating such values\n",
    "dfText = dfText[(dfText['gender:confidence']==1)&(dfText['gender']!='unknown')]#&(dfText['link_color'].str.contains('E\\+') != True)]\n"
   ]
  },
  {
   "cell_type": "code",
   "execution_count": 26,
   "metadata": {},
   "outputs": [
    {
     "data": {
      "text/plain": [
       "(13804, 29)"
      ]
     },
     "execution_count": 26,
     "metadata": {},
     "output_type": "execute_result"
    }
   ],
   "source": [
    "dfText.shape"
   ]
  },
  {
   "cell_type": "code",
   "execution_count": 27,
   "metadata": {},
   "outputs": [],
   "source": [
    "male = dfText[dfText['gender'] == 'male']\n",
    "female = dfText[dfText['gender'] == 'female']\n",
    "brand = dfText[dfText['gender'] == 'brand']"
   ]
  },
  {
   "cell_type": "markdown",
   "metadata": {},
   "source": [
    "### Tokenization"
   ]
  },
  {
   "cell_type": "markdown",
   "metadata": {},
   "source": [
    "To visualize the most frequent words used by each category of gender, it is necessary to tokenize the cleaned text. For the tokenization task, I will use CountVectorizer in order to create bag of words. Also, I will remove stopwords and unicodes from the bag of words in order to get some words which makes sense."
   ]
  },
  {
   "cell_type": "code",
   "execution_count": 28,
   "metadata": {},
   "outputs": [],
   "source": [
    "from sklearn.feature_extraction.text import CountVectorizer"
   ]
  },
  {
   "cell_type": "code",
   "execution_count": 29,
   "metadata": {},
   "outputs": [],
   "source": [
    "cvec = CountVectorizer(stop_words='english', strip_accents = 'unicode')"
   ]
  },
  {
   "cell_type": "code",
   "execution_count": 30,
   "metadata": {},
   "outputs": [
    {
     "data": {
      "text/plain": [
       "(4653, 29)"
      ]
     },
     "execution_count": 30,
     "metadata": {},
     "output_type": "execute_result"
    }
   ],
   "source": [
    "male.shape"
   ]
  },
  {
   "cell_type": "markdown",
   "metadata": {},
   "source": [
    "### Gender: Male"
   ]
  },
  {
   "cell_type": "markdown",
   "metadata": {},
   "source": [
    "#### Plotting the graph of the most frequent words used by Male gender based on the all_text"
   ]
  },
  {
   "cell_type": "code",
   "execution_count": 31,
   "metadata": {},
   "outputs": [
    {
     "data": {
      "text/plain": [
       "<matplotlib.axes._subplots.AxesSubplot at 0x2140a40ab88>"
      ]
     },
     "execution_count": 31,
     "metadata": {},
     "output_type": "execute_result"
    },
    {
     "data": {
      "image/png": "[encoded data removed]",
      "text/plain": [
       "<Figure size 432x288 with 1 Axes>"
      ]
     },
     "metadata": {
      "needs_background": "light"
     },
     "output_type": "display_data"
    }
   ],
   "source": [
    "cvec.fit(male['all_text'])\n",
    "\n",
    "male_df = pd.DataFrame(cvec.transform(male['all_text']).todense(),\n",
    "                      columns = cvec.get_feature_names())\n",
    "male_word_counts = male_df.sum(axis=0)\n",
    "male_word_counts.sort_values(ascending=False).head(20)\n",
    "male_word_counts.sort_values(ascending= False).head(10).plot(kind = 'barh', \n",
    "                                                             title = 'Most Frequent words used by Male users based on the texts combined from tweets and description of users',color= 'blue')"
   ]
  },
  {
   "cell_type": "markdown",
   "metadata": {},
   "source": [
    "#### Plotting the graph of the most frequent words used by Male gender based on the profile description of the user"
   ]
  },
  {
   "cell_type": "code",
   "execution_count": 32,
   "metadata": {},
   "outputs": [
    {
     "data": {
      "text/plain": [
       "<matplotlib.axes._subplots.AxesSubplot at 0x2140a474448>"
      ]
     },
     "execution_count": 32,
     "metadata": {},
     "output_type": "execute_result"
    },
    {
     "data": {
      "image/png": "[encoded data removed]",
      "text/plain": [
       "<Figure size 432x288 with 1 Axes>"
      ]
     },
     "metadata": {
      "needs_background": "light"
     },
     "output_type": "display_data"
    }
   ],
   "source": [
    "\n",
    "male_df_desc = pd.DataFrame(cvec.transform(male['desc_normalized']).todense(),\n",
    "                      columns = cvec.get_feature_names())\n",
    "male_word_counts_desc = male_df_desc.sum(axis=0)\n",
    "male_word_counts_desc.sort_values(ascending=False).head(20)\n",
    "male_word_counts_desc.sort_values(ascending= False).head(10).plot(kind = 'barh', \n",
    "                                                             title = 'Most Frequent words used by Male users based on the profile description', color = 'blue')"
   ]
  },
  {
   "cell_type": "markdown",
   "metadata": {},
   "source": [
    "#### Plotting the graph of the most frequent words used by Male gender based on the tweets posted by the user"
   ]
  },
  {
   "cell_type": "code",
   "execution_count": 33,
   "metadata": {},
   "outputs": [
    {
     "data": {
      "text/plain": [
       "<matplotlib.axes._subplots.AxesSubplot at 0x2140a3aa7c8>"
      ]
     },
     "execution_count": 33,
     "metadata": {},
     "output_type": "execute_result"
    },
    {
     "data": {
      "image/png": "[encoded data removed]",
      "text/plain": [
       "<Figure size 432x288 with 1 Axes>"
      ]
     },
     "metadata": {
      "needs_background": "light"
     },
     "output_type": "display_data"
    }
   ],
   "source": [
    "cvec.fit(male['text_normalized'])\n",
    "\n",
    "male_df_text = pd.DataFrame(cvec.transform(male['text_normalized']).todense(),\n",
    "                      columns = cvec.get_feature_names())\n",
    "male_word_counts_text = male_df_text.sum(axis=0)\n",
    "male_word_counts_text.sort_values(ascending=False).head(20)\n",
    "male_word_counts_text.sort_values(ascending= False).head(10).plot(kind = 'barh', \n",
    "                                                             title = 'Most Frequent words used by Male users based on the tweets posted by the user', color = 'blue')"
   ]
  },
  {
   "cell_type": "markdown",
   "metadata": {},
   "source": [
    "### Gender: Female"
   ]
  },
  {
   "cell_type": "markdown",
   "metadata": {},
   "source": [
    "#### Plotting the graph of the most frequent words used by Female gender based on the all_text"
   ]
  },
  {
   "cell_type": "code",
   "execution_count": 34,
   "metadata": {},
   "outputs": [
    {
     "data": {
      "text/plain": [
       "<matplotlib.axes._subplots.AxesSubplot at 0x2140a47f448>"
      ]
     },
     "execution_count": 34,
     "metadata": {},
     "output_type": "execute_result"
    },
    {
     "data": {
      "image/png": "[encoded data removed]",
      "text/plain": [
       "<Figure size 432x288 with 1 Axes>"
      ]
     },
     "metadata": {
      "needs_background": "light"
     },
     "output_type": "display_data"
    }
   ],
   "source": [
    "cvec.fit(female['all_text'])\n",
    "\n",
    "female_df = pd.DataFrame(cvec.transform(female['all_text']).todense(),\n",
    "                      columns = cvec.get_feature_names())\n",
    "female_word_counts = female_df.sum(axis=0)\n",
    "female_word_counts.sort_values(ascending=False).head(20)\n",
    "female_word_counts.sort_values(ascending= False).head(10).plot(kind = 'barh', \n",
    "                                                             title = 'Most Frequent words used by Female users based on the texts combined from tweets and description of users', color = 'pink')"
   ]
  },
  {
   "cell_type": "markdown",
   "metadata": {},
   "source": [
    "#### Plotting the graph of the most frequent words used by Female gender based on the profile description of the user"
   ]
  },
  {
   "cell_type": "code",
   "execution_count": 35,
   "metadata": {},
   "outputs": [
    {
     "data": {
      "text/plain": [
       "<matplotlib.axes._subplots.AxesSubplot at 0x2146b8e5808>"
      ]
     },
     "execution_count": 35,
     "metadata": {},
     "output_type": "execute_result"
    },
    {
     "data": {
      "image/png": "[encoded data removed]",
      "text/plain": [
       "<Figure size 432x288 with 1 Axes>"
      ]
     },
     "metadata": {
      "needs_background": "light"
     },
     "output_type": "display_data"
    }
   ],
   "source": [
    "cvec.fit(female['desc_normalized'])\n",
    "\n",
    "female_df_desc = pd.DataFrame(cvec.transform(female['desc_normalized']).todense(),\n",
    "                      columns = cvec.get_feature_names())\n",
    "female_word_counts_desc = female_df_desc.sum(axis=0)\n",
    "female_word_counts_desc.sort_values(ascending=False).head(20)\n",
    "female_word_counts_desc.sort_values(ascending= False).head(10).plot(kind = 'barh', \n",
    "                                                             title = 'Most Frequent words used by Female users based on the profile description of the users', color = 'pink')"
   ]
  },
  {
   "cell_type": "markdown",
   "metadata": {},
   "source": [
    "#### Plotting the graph of the most frequent words used by Female gender based on the tweets posted by the user"
   ]
  },
  {
   "cell_type": "code",
   "execution_count": 36,
   "metadata": {},
   "outputs": [
    {
     "data": {
      "text/plain": [
       "<matplotlib.axes._subplots.AxesSubplot at 0x2140a4d2c48>"
      ]
     },
     "execution_count": 36,
     "metadata": {},
     "output_type": "execute_result"
    },
    {
     "data": {
      "image/png": "[encoded data removed]",
      "text/plain": [
       "<Figure size 432x288 with 1 Axes>"
      ]
     },
     "metadata": {
      "needs_background": "light"
     },
     "output_type": "display_data"
    }
   ],
   "source": [
    "cvec.fit(female['text_normalized'])\n",
    "\n",
    "female_df_text = pd.DataFrame(cvec.transform(female['text_normalized']).todense(),\n",
    "                      columns = cvec.get_feature_names())\n",
    "female_word_counts_text = female_df_text.sum(axis=0)\n",
    "female_word_counts_text.sort_values(ascending=False).head(20)\n",
    "female_word_counts_text.sort_values(ascending= False).head(10).plot(kind = 'barh', \n",
    "                                                             title = 'Most Frequent words used by Female users based on the tweets posted by the user', color= 'pink')"
   ]
  },
  {
   "cell_type": "markdown",
   "metadata": {},
   "source": [
    "### Gender: Brand"
   ]
  },
  {
   "cell_type": "markdown",
   "metadata": {},
   "source": [
    "#### Plotting the graph of the most frequent words used by Brand based on the all_text"
   ]
  },
  {
   "cell_type": "code",
   "execution_count": 37,
   "metadata": {},
   "outputs": [
    {
     "data": {
      "text/plain": [
       "<matplotlib.axes._subplots.AxesSubplot at 0x2146b8e84c8>"
      ]
     },
     "execution_count": 37,
     "metadata": {},
     "output_type": "execute_result"
    },
    {
     "data": {
      "image/png": "[encoded data removed]",
      "text/plain": [
       "<Figure size 432x288 with 1 Axes>"
      ]
     },
     "metadata": {
      "needs_background": "light"
     },
     "output_type": "display_data"
    }
   ],
   "source": [
    "cvec.fit(brand['all_text'])\n",
    "\n",
    "brand_df = pd.DataFrame(cvec.transform(brand['all_text']).todense(),\n",
    "                      columns = cvec.get_feature_names())\n",
    "brand_word_counts = brand_df.sum(axis=0)\n",
    "brand_word_counts.sort_values(ascending=False).head(20)\n",
    "brand_word_counts.sort_values(ascending= False).head(10).plot(kind = 'barh', \n",
    "                                                             title = 'Most Frequent words used by Brands based on the texts combined from tweets and description of users', color = 'red')"
   ]
  },
  {
   "cell_type": "code",
   "execution_count": 38,
   "metadata": {},
   "outputs": [
    {
     "data": {
      "text/plain": [
       "<matplotlib.axes._subplots.AxesSubplot at 0x2146b8a5f08>"
      ]
     },
     "execution_count": 38,
     "metadata": {},
     "output_type": "execute_result"
    },
    {
     "data": {
      "image/png": "[encoded data removed]",
      "text/plain": [
       "<Figure size 432x288 with 1 Axes>"
      ]
     },
     "metadata": {
      "needs_background": "light"
     },
     "output_type": "display_data"
    }
   ],
   "source": [
    "cvec.fit(brand['desc_normalized'])\n",
    "\n",
    "brand_df_desc = pd.DataFrame(cvec.transform(brand['desc_normalized']).todense(),\n",
    "                      columns = cvec.get_feature_names())\n",
    "brand_word_counts_desc = brand_df_desc.sum(axis=0)\n",
    "brand_word_counts_desc.sort_values(ascending=False).head(20)\n",
    "brand_word_counts_desc.sort_values(ascending= False).head(10).plot(kind = 'barh', \n",
    "                                                             title = 'Most Frequent words used by Brands based on the texts collected from profile description of users', color = 'red')"
   ]
  },
  {
   "cell_type": "code",
   "execution_count": 39,
   "metadata": {},
   "outputs": [
    {
     "data": {
      "text/plain": [
       "<matplotlib.axes._subplots.AxesSubplot at 0x2146be72f08>"
      ]
     },
     "execution_count": 39,
     "metadata": {},
     "output_type": "execute_result"
    },
    {
     "data": {
      "image/png": "[encoded data removed]",
      "text/plain": [
       "<Figure size 432x288 with 1 Axes>"
      ]
     },
     "metadata": {
      "needs_background": "light"
     },
     "output_type": "display_data"
    }
   ],
   "source": [
    "cvec.fit(brand['text_normalized'])\n",
    "\n",
    "brand_df_text = pd.DataFrame(cvec.transform(brand['text_normalized']).todense(),\n",
    "                      columns = cvec.get_feature_names())\n",
    "brand_word_counts_text = brand_df_text.sum(axis=0)\n",
    "brand_word_counts_text.sort_values(ascending=False).head(20)\n",
    "brand_word_counts_text.sort_values(ascending= False).head(10).plot(kind = 'barh', \n",
    "                                                             title = 'Most Frequent words used by Brands based on the tweets posted', color= 'red')"
   ]
  },
  {
   "cell_type": "markdown",
   "metadata": {},
   "source": [
    "<b>Observations:</b>"
   ]
  },
  {
   "cell_type": "markdown",
   "metadata": {},
   "source": [
    "<ol>\n",
    "<li>The results from the text features exploration are not quite conclusive when compared with results obtained from the colors features exploration.</li>\n",
    "<li>Most used words used by male and female gender, are very similar words such as \"just\", \"like\", \"love\" which this does not give us any information about the gender really.</li>\n",
    "<li>Brands tends to use the words \"weather\", \"channel\" and \"news\" more than regular male and female users. This means that we have probably many information or weather channels accounts in our dataset. Also, the usage of the word \"http\" decribes that brands tend to post more links than standard users.</li>\n",
    "</ol>"
   ]
  },
  {
   "cell_type": "markdown",
   "metadata": {},
   "source": [
    "<b> So, at the end of this section we are able to answer few questions on our dataset. For instance:</b><hr>\n",
    "    \n",
    "       1. What are the most used words by each gender category on the tweets posted?\n",
    "        Males:\n",
    "            1. just\n",
    "            2. like\n",
    "            3. don't\n",
    "        \n",
    "        Females:\n",
    "            1. just\n",
    "            2. like\n",
    "            3. love\n",
    "        \n",
    "        Brands:\n",
    "            1. weather\n",
    "            2. channel\n",
    "            3. updates\n",
    "        \n",
    "        2. Which color is most used for links and sidebars by each gender category?\n",
    "        Links:\n",
    "            1. Male - Olive\n",
    "            2. Female - Amethyst\n",
    "            3. Brand - Curoius Blue\n",
    "        \n",
    "        Sidebars:\n",
    "            1. Male - Woodsmoke\n",
    "            2. Female - Tradewind\n",
    "            3. Brand - Algae Green\n",
    "  "
   ]
  },
  {
   "cell_type": "markdown",
   "metadata": {},
   "source": [
    "## Data Modeling"
   ]
  },
  {
   "cell_type": "markdown",
   "metadata": {},
   "source": [
    "We will use machine learning algorithms to predict the user's gender based on color features and text features. For the data modelling phase of the project, we will perform below steps:"
   ]
  },
  {
   "cell_type": "markdown",
   "metadata": {},
   "source": [
    "<ol>\n",
    "    <li>Creating dummy variables for gender attribute in the dataset.</li>\n",
    "    <li>Splitting data into training and test set by using 70:30</li>\n",
    "    <li>I will run following models on the training data and predicting on the test data</li><ul>\n",
    "    <li>SVC()</li>\n",
    "    <li>KNeighborsClassifier()</li>\n",
    "    <li>RandomForestClassifier()</li>\n",
    "    <li>LogisticRegression()</li>\n",
    "    <li>MultinomialNB()</li>\n",
    "    </ul>\n",
    "<li>Evaluate model based on Accuracy.</li>\n",
    "</ol>"
   ]
  },
  {
   "cell_type": "code",
   "execution_count": 40,
   "metadata": {},
   "outputs": [],
   "source": [
    "from sklearn import linear_model, metrics\n",
    "from sklearn import naive_bayes\n",
    "from sklearn.ensemble import RandomForestClassifier\n",
    "from sklearn.neighbors import KNeighborsClassifier\n",
    "from sklearn.svm import SVC"
   ]
  },
  {
   "cell_type": "code",
   "execution_count": 52,
   "metadata": {},
   "outputs": [],
   "source": [
    "# following models will be used to train our dataset\n",
    "models = [linear_model.LogisticRegression(),\n",
    "          KNeighborsClassifier(),\n",
    "          SVC()]"
   ]
  },
  {
   "cell_type": "code",
   "execution_count": 53,
   "metadata": {},
   "outputs": [],
   "source": [
    "# eval_model function trains the classifier using training dataset, predicts on test set and returns accuracy for the model on the test.\n",
    "def eval_model(model):\n",
    "    model.fit(x_train, y_train)\n",
    "    y_pred = model.predict(x_test)\n",
    "    acc = model.score(x_test,y_test)\n",
    "    return acc"
   ]
  },
  {
   "cell_type": "code",
   "execution_count": 54,
   "metadata": {},
   "outputs": [],
   "source": [
    "# Defining a function for tokenization where I am removing the stopwords and unicodes from the tokens\n",
    "def bag_of_words_cal(text):\n",
    "    vectorizer = CountVectorizer(stop_words='english',\n",
    "                                  strip_accents = 'unicode')\n",
    "    vectors = vectorizer.fit_transform(text)\n",
    "    #vocabulary = vectorizer.get_feature_names()\n",
    "    return vectors#, vocabulary"
   ]
  },
  {
   "cell_type": "markdown",
   "metadata": {},
   "source": [
    "### A. Evaluating the relationship between link_color and user's gender"
   ]
  },
  {
   "cell_type": "code",
   "execution_count": 55,
   "metadata": {},
   "outputs": [],
   "source": [
    "from sklearn import linear_model, metrics\n",
    "from sklearn import naive_bayes\n",
    "from sklearn.pipeline import make_pipeline\n",
    "from sklearn.preprocessing import LabelEncoder\n",
    "from sklearn.model_selection import train_test_split\n",
    "\n",
    "# Using feature link_color as we saw from the visualizations that users tend to change link_color more than the sidebar color\n",
    "df_col = df.loc[:, ['gender:confidence', 'gender', 'link_color']]#, 'sidebar_color']]\n",
    "\n",
    "# Selecting rows where gender:confidence >= 1 and removing values like 7.60E+42\n",
    "dfcolFiltered = df_col[(df_col['gender:confidence'] >= 1) & ((df_col['link_color']).str.contains('E\\+') != True)]\n",
    "\n",
    "bow = bag_of_words_cal(dfcolFiltered['link_color'])\n",
    "X = bow\n",
    " \n",
    "y = LabelEncoder().fit_transform(dfcolFiltered['gender'])\n",
    "\n",
    "# Listing the classifiers I want to test the data on"
   ]
  },
  {
   "cell_type": "code",
   "execution_count": 56,
   "metadata": {},
   "outputs": [
    {
     "data": {
      "text/plain": [
       "(13900, 2290)"
      ]
     },
     "execution_count": 56,
     "metadata": {},
     "output_type": "execute_result"
    }
   ],
   "source": [
    "X.shape"
   ]
  },
  {
   "cell_type": "code",
   "execution_count": 57,
   "metadata": {},
   "outputs": [],
   "source": [
    "x_train, x_test, y_train, y_test = train_test_split(X, y,\n",
    "                                                    test_size=0.3,\n",
    "                                                    stratify = y,\n",
    "                                                    random_state = 123)"
   ]
  },
  {
   "cell_type": "code",
   "execution_count": 58,
   "metadata": {},
   "outputs": [
    {
     "name": "stdout",
     "output_type": "stream",
     "text": [
      "(9730, 2290)\n",
      "(4170, 2290)\n",
      "(9730,)\n",
      "(4170,)\n"
     ]
    }
   ],
   "source": [
    "print(x_train.shape)\n",
    "print(x_test.shape)\n",
    "print(y_train.shape)\n",
    "print(y_test.shape)"
   ]
  },
  {
   "cell_type": "markdown",
   "metadata": {},
   "source": [
    "#### Baseline Model - link_color"
   ]
  },
  {
   "cell_type": "markdown",
   "metadata": {},
   "source": [
    "Calculating the baseline model by predicting the most frequently occuring gender class in the dataset."
   ]
  },
  {
   "cell_type": "code",
   "execution_count": 63,
   "metadata": {},
   "outputs": [],
   "source": [
    "from cytoolz import identity\n",
    "from sklearn.dummy import DummyClassifier\n",
    "from sklearn.model_selection import cross_val_score\n",
    "\n",
    "base_model = make_pipeline(CountVectorizer(analyzer=identity), DummyClassifier('most_frequent'))     \n",
    "base_score = cross_val_score(base_model,dfcolFiltered['link_color'], \n",
    "                             dfcolFiltered['gender'], cv=3, n_jobs=-1)"
   ]
  },
  {
   "cell_type": "code",
   "execution_count": 64,
   "metadata": {},
   "outputs": [
    {
     "data": {
      "text/plain": [
       "0.38546764186214433"
      ]
     },
     "execution_count": 64,
     "metadata": {},
     "output_type": "execute_result"
    }
   ],
   "source": [
    "base_score.mean()"
   ]
  },
  {
   "cell_type": "markdown",
   "metadata": {},
   "source": [
    "The accuracy of baseline model is 38.54%"
   ]
  },
  {
   "cell_type": "markdown",
   "metadata": {},
   "source": [
    "#### Results for link_color feature"
   ]
  },
  {
   "cell_type": "code",
   "execution_count": 65,
   "metadata": {},
   "outputs": [],
   "source": [
    "#for ignoring future warnings\n",
    "import warnings\n",
    "warnings.filterwarnings(\"ignore\", category=FutureWarning)\n",
    "\n",
    "results_lc =  pd.Series([eval_model(model) for model in models], \n",
    "                     index = ['logit', 'knn', 'svc'])"
   ]
  },
  {
   "cell_type": "code",
   "execution_count": 66,
   "metadata": {},
   "outputs": [
    {
     "name": "stdout",
     "output_type": "stream",
     "text": [
      "logit    0.435731\n",
      "knn      0.410552\n",
      "svc      0.385372\n",
      "dtype: float64\n"
     ]
    }
   ],
   "source": [
    "print(results_lc)"
   ]
  },
  {
   "cell_type": "markdown",
   "metadata": {},
   "source": [
    "It seems that Logistic Regression model is performing better when link_color feature is used to predict the gender."
   ]
  },
  {
   "cell_type": "markdown",
   "metadata": {},
   "source": [
    "#### Plotting the bar plot for accuracies obtained for link_color feature"
   ]
  },
  {
   "cell_type": "code",
   "execution_count": 68,
   "metadata": {},
   "outputs": [],
   "source": [
    "mse_model = []\n",
    "acc_model = []\n",
    "for i in range(3):\n",
    "    acc = results_lc[i]\n",
    "    acc_model.append(acc)"
   ]
  },
  {
   "cell_type": "code",
   "execution_count": 69,
   "metadata": {},
   "outputs": [
    {
     "data": {
      "text/plain": [
       "<matplotlib.axes._subplots.AxesSubplot at 0x2147ddd4ec8>"
      ]
     },
     "execution_count": 69,
     "metadata": {},
     "output_type": "execute_result"
    },
    {
     "data": {
      "image/png": "[encoded data removed]",
      "text/plain": [
       "<Figure size 432x288 with 1 Axes>"
      ]
     },
     "metadata": {
      "needs_background": "light"
     },
     "output_type": "display_data"
    }
   ],
   "source": [
    "acc_model = pd.Series(acc_model, index = ['logit', 'knn', 'svc'])\n",
    "acc_model.plot(kind = 'barh', title = 'Accuracy of the models on link_color feature')"
   ]
  },
  {
   "cell_type": "markdown",
   "metadata": {},
   "source": [
    "### B. Evaluating the relationship between sidebar_color and user's gender"
   ]
  },
  {
   "cell_type": "code",
   "execution_count": 71,
   "metadata": {},
   "outputs": [],
   "source": [
    "from sklearn import linear_model, metrics\n",
    "from sklearn import naive_bayes\n",
    "from sklearn.pipeline import make_pipeline\n",
    "\n",
    "df_col = df.loc[:, ['gender:confidence', 'gender', 'sidebar_color']]\n",
    "\n",
    "# Selecting rows where gender:confidence >= 1 and removing values like 7.60E+42\n",
    "dfcolFiltered = df_col[(df_col['gender:confidence'] >= 1) & ((df_col['sidebar_color']).str.contains('E\\+') != True)]\n",
    "\n",
    "# splitting data into X and y\n",
    "\n",
    "bow = bag_of_words_cal(dfcolFiltered['sidebar_color'])\n",
    "X = bow\n",
    "\n",
    "y = LabelEncoder().fit_transform(dfcolFiltered['gender'])\n",
    "\n",
    "# Listing the classifiers I want to test the data on"
   ]
  },
  {
   "cell_type": "code",
   "execution_count": 72,
   "metadata": {},
   "outputs": [
    {
     "data": {
      "text/plain": [
       "(13920, 473)"
      ]
     },
     "execution_count": 72,
     "metadata": {},
     "output_type": "execute_result"
    }
   ],
   "source": [
    "X.shape"
   ]
  },
  {
   "cell_type": "code",
   "execution_count": 73,
   "metadata": {},
   "outputs": [],
   "source": [
    "x_train, x_test, y_train, y_test = train_test_split(X, y,\n",
    "                                                    test_size=0.3,\n",
    "                                                    stratify = y,\n",
    "                                                    random_state = 123)"
   ]
  },
  {
   "cell_type": "code",
   "execution_count": 74,
   "metadata": {},
   "outputs": [
    {
     "name": "stdout",
     "output_type": "stream",
     "text": [
      "(9744, 473)\n",
      "(4176, 473)\n",
      "(9744,)\n",
      "(4176,)\n"
     ]
    }
   ],
   "source": [
    "print(x_train.shape)\n",
    "print(x_test.shape)\n",
    "print(y_train.shape)\n",
    "print(y_test.shape)"
   ]
  },
  {
   "cell_type": "markdown",
   "metadata": {},
   "source": [
    "#### Baseline Model - sidebar_color"
   ]
  },
  {
   "cell_type": "markdown",
   "metadata": {},
   "source": [
    "Calculating the baseline model by predicting the most frequently occuring gender class in the dataset."
   ]
  },
  {
   "cell_type": "code",
   "execution_count": 77,
   "metadata": {},
   "outputs": [],
   "source": [
    "base_model = make_pipeline(CountVectorizer(analyzer=identity), DummyClassifier('most_frequent'))     \n",
    "base_score = cross_val_score(base_model,dfcolFiltered['sidebar_color'], \n",
    "                             dfcolFiltered['gender'], cv=3, n_jobs=-1)"
   ]
  },
  {
   "cell_type": "code",
   "execution_count": 78,
   "metadata": {},
   "outputs": [
    {
     "data": {
      "text/plain": [
       "0.385273005256279"
      ]
     },
     "execution_count": 78,
     "metadata": {},
     "output_type": "execute_result"
    }
   ],
   "source": [
    "base_score.mean()"
   ]
  },
  {
   "cell_type": "markdown",
   "metadata": {},
   "source": [
    "The accuracy of baseline model is 38.52%"
   ]
  },
  {
   "cell_type": "markdown",
   "metadata": {},
   "source": [
    "#### Results for sidebar_color feature"
   ]
  },
  {
   "cell_type": "code",
   "execution_count": 79,
   "metadata": {},
   "outputs": [],
   "source": [
    "results_sc =  pd.Series([eval_model(model) for model in models], \n",
    "                     index = ['logit', 'knn', 'svc'])"
   ]
  },
  {
   "cell_type": "code",
   "execution_count": 80,
   "metadata": {},
   "outputs": [
    {
     "name": "stdout",
     "output_type": "stream",
     "text": [
      "logit    0.410920\n",
      "knn      0.349856\n",
      "svc      0.385297\n",
      "dtype: float64\n"
     ]
    }
   ],
   "source": [
    "print(results_sc)"
   ]
  },
  {
   "cell_type": "markdown",
   "metadata": {},
   "source": [
    "It seems that Logistic Regression model is performing better again when sidebar_color feature is used to predict the gender."
   ]
  },
  {
   "cell_type": "markdown",
   "metadata": {},
   "source": [
    "#### Plotting the bar plot for accuracies obtained for sidebar_color feature"
   ]
  },
  {
   "cell_type": "code",
   "execution_count": 87,
   "metadata": {},
   "outputs": [],
   "source": [
    "mse_model = []\n",
    "acc_model = []\n",
    "for i in range(3):\n",
    "    acc = results_sc[i]\n",
    "    acc_model.append(acc)"
   ]
  },
  {
   "cell_type": "code",
   "execution_count": 89,
   "metadata": {},
   "outputs": [
    {
     "data": {
      "text/plain": [
       "<matplotlib.axes._subplots.AxesSubplot at 0x2147de55f08>"
      ]
     },
     "execution_count": 89,
     "metadata": {},
     "output_type": "execute_result"
    },
    {
     "data": {
      "image/png": "[encoded data removed]",
      "text/plain": [
       "<Figure size 432x288 with 1 Axes>"
      ]
     },
     "metadata": {
      "needs_background": "light"
     },
     "output_type": "display_data"
    }
   ],
   "source": [
    "acc_model = pd.Series(acc_model, index = ['logit', 'knn', 'svc'])\n",
    "acc_model.plot(kind = 'barh', title = 'Accuracy of the models on sidebar_color feature')"
   ]
  },
  {
   "cell_type": "markdown",
   "metadata": {},
   "source": [
    "<b>Conclusion:</b> It can be observed that all the models yield approximately the same accuracy around 30-42% for both the link_color and sidebar_color features. 41% is not significant improvement in prediction of user's gender since baseline model is predicting with 38% accuracy."
   ]
  },
  {
   "cell_type": "markdown",
   "metadata": {},
   "source": [
    "Hence, I would explore texts of the user to see if the texts are providing better results"
   ]
  },
  {
   "cell_type": "markdown",
   "metadata": {},
   "source": [
    "### How well does tweets and profile descriptions predict users gender?"
   ]
  },
  {
   "cell_type": "code",
   "execution_count": 90,
   "metadata": {},
   "outputs": [],
   "source": [
    "dfTextmod = dfText"
   ]
  },
  {
   "cell_type": "markdown",
   "metadata": {},
   "source": [
    "### A. Considering only the description text collected from user's profile"
   ]
  },
  {
   "cell_type": "code",
   "execution_count": 91,
   "metadata": {},
   "outputs": [],
   "source": [
    "bow = bag_of_words_cal(dfTextmod['desc_normalized'])\n",
    "X = bow\n",
    "\n",
    "y = LabelEncoder().fit_transform(dfTextmod['gender'])"
   ]
  },
  {
   "cell_type": "markdown",
   "metadata": {},
   "source": [
    "#### Baseline Model"
   ]
  },
  {
   "cell_type": "code",
   "execution_count": 92,
   "metadata": {},
   "outputs": [],
   "source": [
    "from cytoolz import identity\n",
    "from sklearn.dummy import DummyClassifier\n",
    "from sklearn.model_selection import cross_val_score\n",
    "\n",
    "base_model_t = make_pipeline(CountVectorizer(analyzer=identity), DummyClassifier('most_frequent'))     \n",
    "base_score_t = cross_val_score(base_model, dfTextmod['desc_normalized'], dfTextmod['gender'], cv=5, n_jobs=-1)"
   ]
  },
  {
   "cell_type": "code",
   "execution_count": 93,
   "metadata": {},
   "outputs": [
    {
     "data": {
      "text/plain": [
       "0.38880035413583325"
      ]
     },
     "execution_count": 93,
     "metadata": {},
     "output_type": "execute_result"
    }
   ],
   "source": [
    "base_score_t.mean()"
   ]
  },
  {
   "cell_type": "markdown",
   "metadata": {},
   "source": [
    "The accuracy of baseline model is 38.88%"
   ]
  },
  {
   "cell_type": "markdown",
   "metadata": {},
   "source": [
    "#### Results for description feature used for predicting user gender"
   ]
  },
  {
   "cell_type": "code",
   "execution_count": 96,
   "metadata": {},
   "outputs": [],
   "source": [
    "x_train, x_test, y_train, y_test = train_test_split(X, y,\n",
    "                                                    test_size=0.3,\n",
    "                                                    stratify = y,\n",
    "                                                    random_state = 123)"
   ]
  },
  {
   "cell_type": "code",
   "execution_count": 97,
   "metadata": {},
   "outputs": [],
   "source": [
    "results_dtext =  pd.Series([eval_model(model) for model in models], \n",
    "                     index = ['logit', 'knn', 'svc'])"
   ]
  },
  {
   "cell_type": "code",
   "execution_count": 98,
   "metadata": {},
   "outputs": [
    {
     "name": "stdout",
     "output_type": "stream",
     "text": [
      "logit    0.618783\n",
      "knn      0.448093\n",
      "svc      0.388701\n",
      "dtype: float64\n"
     ]
    }
   ],
   "source": [
    "print(results_dtext)"
   ]
  },
  {
   "cell_type": "markdown",
   "metadata": {},
   "source": [
    "Logistic Regression model is performing better with 61.87% accuracy"
   ]
  },
  {
   "cell_type": "markdown",
   "metadata": {},
   "source": [
    "#### Plotting the accuracy barplot"
   ]
  },
  {
   "cell_type": "code",
   "execution_count": 101,
   "metadata": {},
   "outputs": [],
   "source": [
    "mse_model_text = []\n",
    "acc_model_text = []\n",
    "for i in range(3):\n",
    "    acc = results_dtext[i]\n",
    "    acc_model_text.append(acc)"
   ]
  },
  {
   "cell_type": "code",
   "execution_count": 102,
   "metadata": {},
   "outputs": [
    {
     "data": {
      "text/plain": [
       "<matplotlib.axes._subplots.AxesSubplot at 0x2147de346c8>"
      ]
     },
     "execution_count": 102,
     "metadata": {},
     "output_type": "execute_result"
    },
    {
     "data": {
      "image/png": "[encoded data removed]",
      "text/plain": [
       "<Figure size 432x288 with 1 Axes>"
      ]
     },
     "metadata": {
      "needs_background": "light"
     },
     "output_type": "display_data"
    }
   ],
   "source": [
    "acc_model_text = pd.Series(acc_model_text, index = ['logit', 'knn', 'svc'])\n",
    "acc_model_text.plot(kind = 'barh', title = 'Accuracy of the models based on the profile descriptions of the users')"
   ]
  },
  {
   "cell_type": "markdown",
   "metadata": {},
   "source": [
    "### B. Considering only the Tweets text posted by the user"
   ]
  },
  {
   "cell_type": "code",
   "execution_count": 103,
   "metadata": {},
   "outputs": [],
   "source": [
    "bow = bag_of_words_cal(dfTextmod['text_normalized'])\n",
    "X = bow\n",
    "### B. Considering only the Tweets text posted by the user\n",
    "y = LabelEncoder().fit_transform(dfTextmod['gender'])"
   ]
  },
  {
   "cell_type": "markdown",
   "metadata": {},
   "source": [
    "#### Baseline Model"
   ]
  },
  {
   "cell_type": "code",
   "execution_count": 105,
   "metadata": {},
   "outputs": [],
   "source": [
    "from cytoolz import identity\n",
    "from sklearn.dummy import DummyClassifier\n",
    "from sklearn.model_selection import cross_val_score\n",
    "base_model_t = make_pipeline(CountVectorizer(analyzer=identity), DummyClassifier('most_frequent'))     \n",
    "base_score_t = cross_val_score(base_model, dfTextmod['text_normalized'], dfTextmod['gender'], cv=5, n_jobs=-1)"
   ]
  },
  {
   "cell_type": "code",
   "execution_count": 106,
   "metadata": {},
   "outputs": [
    {
     "data": {
      "text/plain": [
       "0.38880035413583325"
      ]
     },
     "execution_count": 106,
     "metadata": {},
     "output_type": "execute_result"
    }
   ],
   "source": [
    "base_score_t.mean()"
   ]
  },
  {
   "cell_type": "markdown",
   "metadata": {},
   "source": [
    "The baseline model is performing with 38.88% accuracy"
   ]
  },
  {
   "cell_type": "code",
   "execution_count": 107,
   "metadata": {},
   "outputs": [],
   "source": [
    "x_train, x_test, y_train, y_test = train_test_split(X, y,\n",
    "                                                    test_size=0.3,\n",
    "                                                    stratify = y,\n",
    "                                                    random_state = 123)"
   ]
  },
  {
   "cell_type": "markdown",
   "metadata": {},
   "source": [
    "#### Results for tweets feature used for predicting user gender"
   ]
  },
  {
   "cell_type": "code",
   "execution_count": 108,
   "metadata": {},
   "outputs": [],
   "source": [
    "results_text =  pd.Series([eval_model(model) for model in models], \n",
    "                     index = ['logit', 'knn', 'svc'])"
   ]
  },
  {
   "cell_type": "code",
   "execution_count": 109,
   "metadata": {},
   "outputs": [
    {
     "name": "stdout",
     "output_type": "stream",
     "text": [
      "logit    0.534283\n",
      "knn      0.412603\n",
      "svc      0.388701\n",
      "dtype: float64\n"
     ]
    }
   ],
   "source": [
    "print(results_text)"
   ]
  },
  {
   "cell_type": "markdown",
   "metadata": {},
   "source": [
    "Logistic Regression is performing better with 53.42% accuracy."
   ]
  },
  {
   "cell_type": "markdown",
   "metadata": {},
   "source": [
    "#### Plotting bar plot for accuracy"
   ]
  },
  {
   "cell_type": "code",
   "execution_count": 110,
   "metadata": {},
   "outputs": [],
   "source": [
    "mse_model_text = []\n",
    "acc_model_text = []\n",
    "for i in range(3):\n",
    "    acc = results_text[i]\n",
    "    acc_model_text.append(acc)"
   ]
  },
  {
   "cell_type": "code",
   "execution_count": 112,
   "metadata": {},
   "outputs": [
    {
     "data": {
      "text/plain": [
       "<matplotlib.axes._subplots.AxesSubplot at 0x2147cb38ac8>"
      ]
     },
     "execution_count": 112,
     "metadata": {},
     "output_type": "execute_result"
    },
    {
     "data": {
      "image/png": "[encoded data removed]",
      "text/plain": [
       "<Figure size 432x288 with 1 Axes>"
      ]
     },
     "metadata": {
      "needs_background": "light"
     },
     "output_type": "display_data"
    }
   ],
   "source": [
    "acc_model_text = pd.Series(acc_model_text, index = ['logit', 'knn', 'svc'])\n",
    "acc_model_text.plot(kind = 'barh', title = 'Accuracy of the models based on the tweets of the users')"
   ]
  },
  {
   "cell_type": "markdown",
   "metadata": {},
   "source": [
    "### C. Combining both description and tweets text together to evaluate the impact"
   ]
  },
  {
   "cell_type": "code",
   "execution_count": 114,
   "metadata": {},
   "outputs": [],
   "source": [
    "bow = bag_of_words_cal(dfTextmod['all_text'])\n",
    "X = bow\n",
    "\n",
    "y = LabelEncoder().fit_transform(dfTextmod['gender'])"
   ]
  },
  {
   "cell_type": "markdown",
   "metadata": {},
   "source": [
    "#### Baseline Model"
   ]
  },
  {
   "cell_type": "code",
   "execution_count": 115,
   "metadata": {},
   "outputs": [],
   "source": [
    "from cytoolz import identity\n",
    "from sklearn.dummy import DummyClassifier\n",
    "from sklearn.model_selection import cross_val_score\n",
    "base_model_t = make_pipeline(CountVectorizer(analyzer=identity), DummyClassifier('most_frequent'))     \n",
    "base_score_t = cross_val_score(base_model, dfTextmod['all_text'], dfTextmod['gender'], cv=5, n_jobs=-1)"
   ]
  },
  {
   "cell_type": "code",
   "execution_count": 116,
   "metadata": {},
   "outputs": [
    {
     "data": {
      "text/plain": [
       "0.38880035413583325"
      ]
     },
     "execution_count": 116,
     "metadata": {},
     "output_type": "execute_result"
    }
   ],
   "source": [
    "base_score_t.mean()"
   ]
  },
  {
   "cell_type": "markdown",
   "metadata": {},
   "source": [
    "The accuracy of baseline model after combining texts of both the profile description and tweets is 38.88%"
   ]
  },
  {
   "cell_type": "code",
   "execution_count": 117,
   "metadata": {},
   "outputs": [],
   "source": [
    "x_train, x_test, y_train, y_test = train_test_split(X, y,\n",
    "                                                    test_size=0.3,\n",
    "                                                    stratify = y,\n",
    "                                                    random_state = 123)"
   ]
  },
  {
   "cell_type": "markdown",
   "metadata": {},
   "source": [
    "#### Results for both the text (tweet and profile description)"
   ]
  },
  {
   "cell_type": "code",
   "execution_count": 118,
   "metadata": {},
   "outputs": [],
   "source": [
    "results_text =  pd.Series([eval_model(model) for model in models], \n",
    "                     index = ['logit', 'knn', 'svc'])"
   ]
  },
  {
   "cell_type": "code",
   "execution_count": 119,
   "metadata": {},
   "outputs": [
    {
     "name": "stdout",
     "output_type": "stream",
     "text": [
      "logit    0.656929\n",
      "knn      0.443023\n",
      "svc      0.388701\n",
      "dtype: float64\n"
     ]
    }
   ],
   "source": [
    "print(results_text)"
   ]
  },
  {
   "cell_type": "markdown",
   "metadata": {},
   "source": [
    "Logistic Regression is performing best with 65.69% accuracy"
   ]
  },
  {
   "cell_type": "markdown",
   "metadata": {},
   "source": [
    "#### Plotting bar plot for accuracy"
   ]
  },
  {
   "cell_type": "code",
   "execution_count": 120,
   "metadata": {},
   "outputs": [],
   "source": [
    "mse_model_text = []\n",
    "acc_model_text = []\n",
    "for i in range(3):\n",
    "    acc = results_text[i]\n",
    "    acc_model_text.append(acc)"
   ]
  },
  {
   "cell_type": "code",
   "execution_count": 121,
   "metadata": {},
   "outputs": [
    {
     "data": {
      "text/plain": [
       "<matplotlib.axes._subplots.AxesSubplot at 0x2147e0fbf88>"
      ]
     },
     "execution_count": 121,
     "metadata": {},
     "output_type": "execute_result"
    },
    {
     "data": {
      "image/png": "[encoded data removed]",
      "text/plain": [
       "<Figure size 432x288 with 1 Axes>"
      ]
     },
     "metadata": {
      "needs_background": "light"
     },
     "output_type": "display_data"
    }
   ],
   "source": [
    "acc_model_text = pd.Series(acc_model_text, index = ['logit', 'knn', 'svc'])\n",
    "acc_model_text.plot(kind = 'barh', title = 'Accuracy of the models on both tweets and profile description')"
   ]
  },
  {
   "cell_type": "markdown",
   "metadata": {},
   "source": [
    "## Conclusion:"
   ]
  },
  {
   "cell_type": "markdown",
   "metadata": {},
   "source": [
    "<ol>\n",
    "    <li>Logistic Regression is performing best in predicting gender of the users among the three models.</li>\n",
    "    <li>Combining texts from tweet and profile description yeilds better accuracy when compared to considering text from each separately.</li>\n",
    "    <li>Text feature is better in predicting users' gender when compared to color features</li>\n",
    "</ol>"
   ]
  },
  {
   "cell_type": "code",
   "execution_count": null,
   "metadata": {},
   "outputs": [],
   "source": []
  }
 ],
 "metadata": {
  "kernelspec": {
   "display_name": "Python 3",
   "language": "python",
   "name": "python3"
  },
  "language_info": {
   "codemirror_mode": {
    "name": "ipython",
    "version": 3
   },
   "file_extension": ".py",
   "mimetype": "text/x-python",
   "name": "python",
   "nbconvert_exporter": "python",
   "pygments_lexer": "ipython3",
   "version": "3.7.4"
  }
 },
 "nbformat": 4,
 "nbformat_minor": 2
}
